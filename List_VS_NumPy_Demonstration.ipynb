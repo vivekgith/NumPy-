{
 "cells": [
  {
   "cell_type": "markdown",
   "id": "cff54c32-1500-4866-8b0a-1ee36a590c61",
   "metadata": {},
   "source": [
    "                            **Staring of NumPy Introduction**"
   ]
  },
  {
   "cell_type": "markdown",
   "id": "5f16e4c0-944d-4f21-9a7a-1f4b5b9d9ff5",
   "metadata": {},
   "source": [
    "**List**"
   ]
  },
  {
   "cell_type": "code",
   "execution_count": 7,
   "id": "d3ec4bc6-93ba-488a-a605-37c194e6480a",
   "metadata": {},
   "outputs": [
    {
     "name": "stdout",
     "output_type": "stream",
     "text": [
      "11.728485 sec \n"
     ]
    }
   ],
   "source": [
    "\n",
    "import time\n",
    "n=10000\n",
    "m1=[[e for e in range(n)]for i in range(n)]\n",
    "m2=[[e for e in range(n)] for i in range(n)]\n",
    "start=time.time()\n",
    "for i in range(n):\n",
    "    for j in range(n):  # Added a for loop to define j\n",
    "        m1[i][j]+=m2[i][j]  # Fixed the operation to add m2[i][j] to m1[i][j]\n",
    "end=time.time()\n",
    "print(\"%.6f sec \"%(end-start))"
   ]
  },
  {
   "cell_type": "code",
   "execution_count": 8,
   "id": "18c17124-e774-4435-9f97-4240cff9d95a",
   "metadata": {},
   "outputs": [
    {
     "name": "stdout",
     "output_type": "stream",
     "text": [
      "11.085548 sec \n"
     ]
    }
   ],
   "source": [
    "import time\n",
    "import numpy as np\n",
    "n=10000\n",
    "m1=[[e for e in range(n)]for i in range(n)]\n",
    "m2=[[e for e in range(n)] for i in range(n)]\n",
    "start=time.time()\n",
    "m1=np.array(m1)\n",
    "m2=np.array(m2)\n",
    "m1+m2\n",
    "end=time.time()\n",
    "print(\"%.6f sec \"%(end-start))\n",
    "\n"
   ]
  },
  {
   "cell_type": "code",
   "execution_count": null,
   "id": "cb0a35a9-30a6-4746-8fc6-6831b863cf95",
   "metadata": {},
   "outputs": [],
   "source": []
  }
 ],
 "metadata": {
  "kernelspec": {
   "display_name": "Python [conda env:base] *",
   "language": "python",
   "name": "conda-base-py"
  },
  "language_info": {
   "codemirror_mode": {
    "name": "ipython",
    "version": 3
   },
   "file_extension": ".py",
   "mimetype": "text/x-python",
   "name": "python",
   "nbconvert_exporter": "python",
   "pygments_lexer": "ipython3",
   "version": "3.13.5"
  }
 },
 "nbformat": 4,
 "nbformat_minor": 5
}
