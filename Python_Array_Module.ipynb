{
 "cells": [
  {
   "cell_type": "markdown",
   "id": "fa46a86c-0477-4bd5-a371-abf642bb89ae",
   "metadata": {},
   "source": [
    "**Array Module**"
   ]
  },
  {
   "cell_type": "code",
   "execution_count": 1,
   "id": "e8739d4b-6a62-45f5-8165-bc6e2c4987ac",
   "metadata": {},
   "outputs": [
    {
     "name": "stdout",
     "output_type": "stream",
     "text": [
      "12 14 16 18\n"
     ]
    }
   ],
   "source": [
    "import array\n",
    "a = array.array('i',[12,14,16,18])\n",
    "print(*a)"
   ]
  },
  {
   "cell_type": "markdown",
   "id": "65a1c252-7d7a-47a8-bff1-7296c7e1034d",
   "metadata": {},
   "source": [
    "**Accessing Element Via Indexing**"
   ]
  },
  {
   "cell_type": "code",
   "execution_count": 2,
   "id": "d8985000-4e72-4586-9bbf-388ed22fe48b",
   "metadata": {},
   "outputs": [
    {
     "data": {
      "text/plain": [
       "12"
      ]
     },
     "execution_count": 2,
     "metadata": {},
     "output_type": "execute_result"
    }
   ],
   "source": [
    "a[0]\n",
    "a[1]\n",
    "a[2]\n",
    "a[3]\n",
    "a[-1]\n",
    "a[-2]\n",
    "a[-3]\n",
    "a[-4]"
   ]
  },
  {
   "cell_type": "markdown",
   "id": "aa896419-ca65-4257-bde6-e2f27ca2fd1b",
   "metadata": {},
   "source": [
    "**Built In Method**"
   ]
  },
  {
   "cell_type": "code",
   "execution_count": 3,
   "id": "3aa21d7c-0440-4fbb-a968-2dd8306c00fb",
   "metadata": {},
   "outputs": [],
   "source": [
    "a.insert(0,13)"
   ]
  },
  {
   "cell_type": "code",
   "execution_count": 4,
   "id": "4b681ecd-8ea7-45cb-af67-b11c115fa1e0",
   "metadata": {},
   "outputs": [
    {
     "name": "stdout",
     "output_type": "stream",
     "text": [
      "13 12 14 16 18\n"
     ]
    }
   ],
   "source": [
    "print(*a)"
   ]
  },
  {
   "cell_type": "code",
   "execution_count": 5,
   "id": "d30b62ee-c580-4856-a6b9-bd88f8a806a1",
   "metadata": {},
   "outputs": [],
   "source": [
    "a.insert(1,15)"
   ]
  },
  {
   "cell_type": "code",
   "execution_count": 6,
   "id": "e11c741f-6901-43f1-aadc-b44fc2c79b12",
   "metadata": {},
   "outputs": [
    {
     "name": "stdout",
     "output_type": "stream",
     "text": [
      "13 15 12 14 16 18\n"
     ]
    }
   ],
   "source": [
    "print(*a)"
   ]
  },
  {
   "cell_type": "code",
   "execution_count": 7,
   "id": "8566d451-4dcb-4e46-8b11-adbaf5caaa66",
   "metadata": {},
   "outputs": [
    {
     "name": "stdout",
     "output_type": "stream",
     "text": [
      "13 15 12 14 16 18 80\n"
     ]
    }
   ],
   "source": [
    "a.append(80)\n",
    "print(*a)"
   ]
  },
  {
   "cell_type": "code",
   "execution_count": 8,
   "id": "729fc625-a2b8-4217-8b63-a12d0ef916e0",
   "metadata": {},
   "outputs": [],
   "source": [
    "a.append(90)"
   ]
  },
  {
   "cell_type": "code",
   "execution_count": 9,
   "id": "8c4b9dd6-c76e-4dc2-aa98-765a5a81e58f",
   "metadata": {},
   "outputs": [
    {
     "name": "stdout",
     "output_type": "stream",
     "text": [
      "13 15 12 14 16 18 80 90\n"
     ]
    }
   ],
   "source": [
    "print(*a)"
   ]
  },
  {
   "cell_type": "code",
   "execution_count": 10,
   "id": "835ffb91-dbb4-49f0-8c0e-d56cc568f7c3",
   "metadata": {},
   "outputs": [
    {
     "data": {
      "text/plain": [
       "90"
      ]
     },
     "execution_count": 10,
     "metadata": {},
     "output_type": "execute_result"
    }
   ],
   "source": [
    "a.pop()"
   ]
  },
  {
   "cell_type": "code",
   "execution_count": 11,
   "id": "c71bde88-bcf5-4e49-902e-c64a8a7a2047",
   "metadata": {},
   "outputs": [
    {
     "data": {
      "text/plain": [
       "80"
      ]
     },
     "execution_count": 11,
     "metadata": {},
     "output_type": "execute_result"
    }
   ],
   "source": [
    "a.pop()"
   ]
  },
  {
   "cell_type": "code",
   "execution_count": 12,
   "id": "bbc22827-84b3-4157-8ebe-b6ecc6a4d3ad",
   "metadata": {},
   "outputs": [
    {
     "name": "stdout",
     "output_type": "stream",
     "text": [
      "13 15 12 14 16 18\n"
     ]
    }
   ],
   "source": [
    "print(*a)"
   ]
  },
  {
   "cell_type": "code",
   "execution_count": 13,
   "id": "9a9c48fb-09d6-4c2a-b9b8-e926dc12664e",
   "metadata": {},
   "outputs": [
    {
     "data": {
      "text/plain": [
       "15"
      ]
     },
     "execution_count": 13,
     "metadata": {},
     "output_type": "execute_result"
    }
   ],
   "source": [
    "a.pop(1)"
   ]
  },
  {
   "cell_type": "code",
   "execution_count": 16,
   "id": "b04fecf3-e19c-41cb-ab83-085b7487d7ac",
   "metadata": {},
   "outputs": [
    {
     "name": "stdout",
     "output_type": "stream",
     "text": [
      "13 12 14 16 18\n"
     ]
    }
   ],
   "source": [
    "print(*a)\n",
    "a.insert(0,80)"
   ]
  },
  {
   "cell_type": "code",
   "execution_count": 15,
   "id": "745dee17-b7b8-45d9-b4e3-bb4b6fe0cda8",
   "metadata": {},
   "outputs": [
    {
     "ename": "ValueError",
     "evalue": "array.remove(x): x not in array",
     "output_type": "error",
     "traceback": [
      "\u001b[0;31m---------------------------------------------------------------------------\u001b[0m",
      "\u001b[0;31mValueError\u001b[0m                                Traceback (most recent call last)",
      "Cell \u001b[0;32mIn[15], line 1\u001b[0m\n\u001b[0;32m----> 1\u001b[0m a\u001b[38;5;241m.\u001b[39mremove(\u001b[38;5;241m80\u001b[39m)\n",
      "\u001b[0;31mValueError\u001b[0m: array.remove(x): x not in array"
     ]
    }
   ],
   "source": [
    "a.remove(80)"
   ]
  },
  {
   "cell_type": "code",
   "execution_count": null,
   "id": "5ebe1416-76b2-45b4-9d5b-5eae52f2cdcb",
   "metadata": {},
   "outputs": [],
   "source": [
    "print(*a)"
   ]
  },
  {
   "cell_type": "code",
   "execution_count": null,
   "id": "2396a0f5-fb6c-4d22-a315-e59b2be70758",
   "metadata": {},
   "outputs": [],
   "source": [
    "a.insert(0,100)"
   ]
  },
  {
   "cell_type": "code",
   "execution_count": null,
   "id": "29e9a60d-0206-492d-a191-38ec753336a3",
   "metadata": {},
   "outputs": [],
   "source": [
    "print(*a)"
   ]
  },
  {
   "cell_type": "code",
   "execution_count": null,
   "id": "ede0273c-c3a8-479a-bcb4-ba83d30887e5",
   "metadata": {},
   "outputs": [],
   "source": [
    "a.append(200)"
   ]
  },
  {
   "cell_type": "code",
   "execution_count": null,
   "id": "3da49d1c-51a8-4f06-ac95-27b18cf63766",
   "metadata": {},
   "outputs": [],
   "source": [
    "print(*a)"
   ]
  },
  {
   "cell_type": "code",
   "execution_count": null,
   "id": "830c5731-4c10-48ba-b4fe-b5c7384b6ecf",
   "metadata": {},
   "outputs": [],
   "source": [
    "a.index(16)"
   ]
  },
  {
   "cell_type": "code",
   "execution_count": null,
   "id": "9768ab6c-06fd-4f1f-8fba-55542b4531d2",
   "metadata": {},
   "outputs": [],
   "source": [
    "a.index(200)"
   ]
  },
  {
   "cell_type": "code",
   "execution_count": null,
   "id": "1f861efa-9f14-4b3f-8deb-122bf7fa66d2",
   "metadata": {},
   "outputs": [],
   "source": [
    "200 in a"
   ]
  },
  {
   "cell_type": "code",
   "execution_count": null,
   "id": "1e7046d7-f49e-4657-a78d-6e2f9af89033",
   "metadata": {},
   "outputs": [],
   "source": [
    "13 in a"
   ]
  },
  {
   "cell_type": "code",
   "execution_count": null,
   "id": "c7445c84-4e3c-4de5-916a-fb37e9fa7647",
   "metadata": {},
   "outputs": [],
   "source": [
    "a.count(100)"
   ]
  },
  {
   "cell_type": "code",
   "execution_count": null,
   "id": "3e840cce-88fa-4005-bca6-877d831e7d2a",
   "metadata": {},
   "outputs": [],
   "source": [
    "a.count(100)"
   ]
  },
  {
   "cell_type": "code",
   "execution_count": null,
   "id": "21f29831-c3d6-44a3-8bce-628c41f420cc",
   "metadata": {},
   "outputs": [],
   "source": [
    "a.reverse()"
   ]
  },
  {
   "cell_type": "code",
   "execution_count": null,
   "id": "1c830d40-39ea-49a6-8ed0-5916078a8bc1",
   "metadata": {},
   "outputs": [],
   "source": [
    "print(*a)"
   ]
  },
  {
   "cell_type": "code",
   "execution_count": null,
   "id": "6326bb8b-8e0b-4c70-b514-f0191d2814ec",
   "metadata": {},
   "outputs": [],
   "source": [
    "a.extend([2,4,6])"
   ]
  },
  {
   "cell_type": "code",
   "execution_count": null,
   "id": "9e7fabf1-fe89-4475-a075-59f5792e806a",
   "metadata": {},
   "outputs": [],
   "source": [
    "print(*a)"
   ]
  }
 ],
 "metadata": {
  "kernelspec": {
   "display_name": "Python [conda env:base] *",
   "language": "python",
   "name": "conda-base-py"
  },
  "language_info": {
   "codemirror_mode": {
    "name": "ipython",
    "version": 3
   },
   "file_extension": ".py",
   "mimetype": "text/x-python",
   "name": "python",
   "nbconvert_exporter": "python",
   "pygments_lexer": "ipython3",
   "version": "3.13.5"
  }
 },
 "nbformat": 4,
 "nbformat_minor": 5
}
