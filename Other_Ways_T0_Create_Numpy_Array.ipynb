{
 "cells": [
  {
   "cell_type": "markdown",
   "id": "e24f4ef9-8686-4868-b513-6cd1cd43d832",
   "metadata": {},
   "source": [
    "**Zeros Function**"
   ]
  },
  {
   "cell_type": "code",
   "execution_count": 1,
   "id": "30fef878-5962-4b90-8444-154a26560b7c",
   "metadata": {},
   "outputs": [
    {
     "name": "stdout",
     "output_type": "stream",
     "text": [
      "[[0.]\n",
      " [0.]\n",
      " [0.]]\n"
     ]
    },
    {
     "data": {
      "text/plain": [
       "dtype('float64')"
      ]
     },
     "execution_count": 1,
     "metadata": {},
     "output_type": "execute_result"
    }
   ],
   "source": [
    "import numpy as np\n",
    "a1=np.zeros((3,1,)) # 3Arrays\n",
    "                   # 1-1 digit inside array.\n",
    "print(a1)\n",
    "a1.ndim\n",
    "a1.dtype"
   ]
  },
  {
   "cell_type": "markdown",
   "id": "5f6c1e6d-a2bf-4681-84b3-f0a61313ed6e",
   "metadata": {},
   "source": [
    "**Ones Function**"
   ]
  },
  {
   "cell_type": "code",
   "execution_count": 2,
   "id": "6d9c6425-510f-4be4-b250-f210963abd62",
   "metadata": {},
   "outputs": [
    {
     "name": "stdout",
     "output_type": "stream",
     "text": [
      "[[1]\n",
      " [1]\n",
      " [1]]\n"
     ]
    }
   ],
   "source": [
    "a1=np.ones((3,1),dtype='i4') # u can put int or any data type by dtype='i4'.\n",
    "print(a1)\n"
   ]
  },
  {
   "cell_type": "markdown",
   "id": "40867a68-cb28-4513-9e90-fc7fa4122542",
   "metadata": {},
   "source": [
    "**Full Functions**"
   ]
  },
  {
   "cell_type": "code",
   "execution_count": 3,
   "id": "01f546a9-09a9-4bd3-9a2e-16ea3cb4efe1",
   "metadata": {},
   "outputs": [
    {
     "name": "stdout",
     "output_type": "stream",
     "text": [
      "[[2 2 2]\n",
      " [2 2 2]\n",
      " [2 2 2]]\n",
      "[[444 444 444 ... 444 444 444]\n",
      " [444 444 444 ... 444 444 444]\n",
      " [444 444 444 ... 444 444 444]\n",
      " ...\n",
      " [444 444 444 ... 444 444 444]\n",
      " [444 444 444 ... 444 444 444]\n",
      " [444 444 444 ... 444 444 444]]\n"
     ]
    },
    {
     "data": {
      "text/plain": [
       "2"
      ]
     },
     "execution_count": 3,
     "metadata": {},
     "output_type": "execute_result"
    }
   ],
   "source": [
    "a1=np.full((3,3),2,dtype='i4')\n",
    "print(a1)\n",
    "a1=np.full((444,444,),444,dtype='i4')\n",
    "print(a1)\n",
    "type(a1)\n",
    "a1.ndim"
   ]
  },
  {
   "cell_type": "markdown",
   "id": "1f50e9a5-d9d9-4fe2-b2bd-5817c77e4a35",
   "metadata": {},
   "source": [
    "**ARANGE Function**"
   ]
  },
  {
   "cell_type": "code",
   "execution_count": 4,
   "id": "a8fc9085-7cd6-414c-95e8-6950389183c6",
   "metadata": {},
   "outputs": [
    {
     "data": {
      "text/plain": [
       "array([0, 1, 2, 3, 4])"
      ]
     },
     "execution_count": 4,
     "metadata": {},
     "output_type": "execute_result"
    }
   ],
   "source": [
    "a1=np.arange(5)\n",
    "a1"
   ]
  },
  {
   "cell_type": "code",
   "execution_count": 5,
   "id": "b25d097e-cc20-4cca-8b3b-49dd6d4235a6",
   "metadata": {},
   "outputs": [
    {
     "name": "stdout",
     "output_type": "stream",
     "text": [
      "[5 6 7 8 9]\n"
     ]
    },
    {
     "data": {
      "text/plain": [
       "array([ 0,  1,  2,  3,  4,  5,  6,  7,  8,  9, 10, 11])"
      ]
     },
     "execution_count": 5,
     "metadata": {},
     "output_type": "execute_result"
    }
   ],
   "source": [
    "a1=np.arange(5,10)\n",
    "print(a1)\n",
    "a1=np.arange(12)\n",
    "a1\n"
   ]
  },
  {
   "cell_type": "code",
   "execution_count": 6,
   "id": "e9305f19-32f7-4051-b703-25796a28bcfa",
   "metadata": {},
   "outputs": [
    {
     "data": {
      "text/plain": [
       "array([[ 0,  1,  2,  3],\n",
       "       [ 4,  5,  6,  7],\n",
       "       [ 8,  9, 10, 11]])"
      ]
     },
     "execution_count": 6,
     "metadata": {},
     "output_type": "execute_result"
    }
   ],
   "source": [
    "a1=a1.reshape(3,4)\n",
    "a1"
   ]
  },
  {
   "cell_type": "code",
   "execution_count": 7,
   "id": "0bd1b79b-cfb1-4aa7-8993-69c82428f0d3",
   "metadata": {},
   "outputs": [
    {
     "name": "stdout",
     "output_type": "stream",
     "text": [
      "[ 1.   5.5 10. ]\n",
      "[ 2.          7.42857143 12.85714286 18.28571429 23.71428571 29.14285714\n",
      " 34.57142857 40.        ]\n"
     ]
    },
    {
     "data": {
      "text/plain": [
       "array([ 1.  , 20.75, 40.5 , 60.25, 80.  ])"
      ]
     },
     "execution_count": 7,
     "metadata": {},
     "output_type": "execute_result"
    }
   ],
   "source": [
    "a1=np.linspace(1,10,3) #first value ,last value and find how many value u want find.\n",
    "print(a1)\n",
    "a1=np.linspace(2,40,8)\n",
    "print(a1)\n",
    "a1=np.linspace(1,80,5)\n",
    "a1"
   ]
  },
  {
   "cell_type": "code",
   "execution_count": 8,
   "id": "d6516c69-d268-4dbc-9073-fa32f1c9f6e5",
   "metadata": {},
   "outputs": [
    {
     "name": "stdout",
     "output_type": "stream",
     "text": [
      "[[1. 2. 3.]\n",
      " [4. 5. 6.]\n",
      " [7. 8. 9.]]\n",
      "[[ 1.  2.  3.]\n",
      " [ 4.  5.  6.]\n",
      " [ 7. nan  9.]]\n"
     ]
    }
   ],
   "source": [
    "a1=np.array([[1,2,3],[4,5,6],[7,8,9]],dtype='f4') #It keeeps always float when use (nan)function.\n",
    "print(a1)\n",
    "a1[2,1]=np.nan\n",
    "print(a1)"
   ]
  },
  {
   "cell_type": "code",
   "execution_count": 9,
   "id": "3b2b0679-527f-4f15-9b95-09501a456ee1",
   "metadata": {},
   "outputs": [
    {
     "name": "stdout",
     "output_type": "stream",
     "text": [
      "[[1 0 0 0 0 0 0 0 0 0]\n",
      " [0 1 0 0 0 0 0 0 0 0]\n",
      " [0 0 1 0 0 0 0 0 0 0]\n",
      " [0 0 0 1 0 0 0 0 0 0]\n",
      " [0 0 0 0 1 0 0 0 0 0]\n",
      " [0 0 0 0 0 1 0 0 0 0]\n",
      " [0 0 0 0 0 0 1 0 0 0]\n",
      " [0 0 0 0 0 0 0 1 0 0]\n",
      " [0 0 0 0 0 0 0 0 1 0]\n",
      " [0 0 0 0 0 0 0 0 0 1]]\n"
     ]
    }
   ],
   "source": [
    "a1=np.identity(10,dtype='i4')\n",
    "print(a1)"
   ]
  },
  {
   "cell_type": "code",
   "execution_count": 10,
   "id": "764dadf5-fef2-4e09-ada4-88eb466f5b97",
   "metadata": {},
   "outputs": [
    {
     "name": "stdout",
     "output_type": "stream",
     "text": [
      "[[1 0 0 0]\n",
      " [0 1 0 0]\n",
      " [0 0 1 0]\n",
      " [0 0 0 1]]\n"
     ]
    }
   ],
   "source": [
    "a1=np.identity(4,dtype='i4')\n",
    "print(a1)"
   ]
  },
  {
   "cell_type": "code",
   "execution_count": 11,
   "id": "fc45b12c-5423-416d-b3f3-dabf3e49aa89",
   "metadata": {},
   "outputs": [
    {
     "name": "stdout",
     "output_type": "stream",
     "text": [
      "[[12 14 11 11]\n",
      " [13 11 12 10]\n",
      " [13 14 14 12]]\n"
     ]
    }
   ],
   "source": [
    "a1=np.random.rand(3,4)#taking random number. random generally generate 0 to 1.\n",
    "a1\n",
    "a1=np.random.randint(10,15,size=(3,4))# Taking range it takes range 10 to 15 and 15 will exclude.\n",
    "print(a1)\n",
    "                     "
   ]
  }
 ],
 "metadata": {
  "kernelspec": {
   "display_name": "Python [conda env:base] *",
   "language": "python",
   "name": "conda-base-py"
  },
  "language_info": {
   "codemirror_mode": {
    "name": "ipython",
    "version": 3
   },
   "file_extension": ".py",
   "mimetype": "text/x-python",
   "name": "python",
   "nbconvert_exporter": "python",
   "pygments_lexer": "ipython3",
   "version": "3.13.5"
  }
 },
 "nbformat": 4,
 "nbformat_minor": 5
}
