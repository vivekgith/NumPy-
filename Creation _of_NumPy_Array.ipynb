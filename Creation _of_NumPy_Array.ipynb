{
 "cells": [
  {
   "cell_type": "code",
   "execution_count": 1,
   "id": "f8587559-df3d-45a8-a542-8cf994f17329",
   "metadata": {},
   "outputs": [
    {
     "name": "stdout",
     "output_type": "stream",
     "text": [
      "[10 20 40 60 30 50]\n"
     ]
    }
   ],
   "source": [
    "import numpy as np\n",
    "a1=np.array([10,20,40,60,30,50])\n",
    "print(a1) #standared representation of numpy array[]around the element when u print array object directly."
   ]
  },
  {
   "cell_type": "code",
   "execution_count": 2,
   "id": "2cfeee16-be73-4a77-9a55-ed81977e57a2",
   "metadata": {},
   "outputs": [
    {
     "name": "stdout",
     "output_type": "stream",
     "text": [
      "10 20 40 60 30 50\n"
     ]
    }
   ],
   "source": [
    "print(*a1)# * before al unpack the array elements,tretating them as a seprate arguments.by deafult\n",
    "#the print function seprates multiple arguments with a space."
   ]
  },
  {
   "cell_type": "code",
   "execution_count": 3,
   "id": "1b56a9bb-251a-4b82-9502-f2a4b05a0b49",
   "metadata": {},
   "outputs": [
    {
     "name": "stdout",
     "output_type": "stream",
     "text": [
      "[10 20 40 60 30 50]\n",
      "10 20 40 60 30 50\n"
     ]
    }
   ],
   "source": [
    "a1=np.array((10,20,40,60,30,50))\n",
    "print(a1)\n",
    "print(*a1)"
   ]
  },
  {
   "cell_type": "markdown",
   "id": "f9619b80-81cf-4366-95aa-63bb2778c78f",
   "metadata": {},
   "source": [
    "**Creation of numPy Array**"
   ]
  },
  {
   "cell_type": "code",
   "execution_count": 4,
   "id": "6029adbc-ace5-45cd-a776-786e885101b5",
   "metadata": {},
   "outputs": [
    {
     "name": "stdout",
     "output_type": "stream",
     "text": [
      "1 2 3 4\n",
      "[1 2 3 4]\n"
     ]
    }
   ],
   "source": [
    "a1=np.array([1,2,3,4]) #1D Array\n",
    "a1.dtype\n",
    "print(*a1)\n",
    "print(a1)"
   ]
  },
  {
   "cell_type": "code",
   "execution_count": 5,
   "id": "1dfcc47a-16e0-4762-af06-c975c49edca9",
   "metadata": {},
   "outputs": [
    {
     "name": "stdout",
     "output_type": "stream",
     "text": [
      "[[1 2 3]\n",
      " [4 5 6]]\n"
     ]
    }
   ],
   "source": [
    "a2=np.array([[1,2,3],[4,5,6]]) #2D Array\n",
    "a2.dtype\n",
    "print(a2)"
   ]
  },
  {
   "cell_type": "code",
   "execution_count": 6,
   "id": "7880aff4-6a28-461d-a82a-8e2b6be4509a",
   "metadata": {},
   "outputs": [
    {
     "name": "stdout",
     "output_type": "stream",
     "text": [
      "[[[ 1  2  3]\n",
      "  [ 4  5  6]]\n",
      "\n",
      " [[ 7  8  9]\n",
      "  [10 11 12]]]\n"
     ]
    }
   ],
   "source": [
    "a3=np.array([[[1,2,3],[4,5,6]],[[7,8,9],[10,11,12]]]) #3D array\n",
    "a3.dtype\n",
    "print(a3)"
   ]
  },
  {
   "cell_type": "code",
   "execution_count": 7,
   "id": "0a9218ee-5557-421f-8445-200148830d54",
   "metadata": {},
   "outputs": [
    {
     "name": "stdout",
     "output_type": "stream",
     "text": [
      "[[[[[1 2 3 4]]]]]\n"
     ]
    }
   ],
   "source": [
    "a4=np.array([1,2,3,4],ndmin=5)\n",
    "print(a4)\n"
   ]
  },
  {
   "cell_type": "code",
   "execution_count": 8,
   "id": "1a661f05-00b8-41ba-99f4-325bd066714d",
   "metadata": {},
   "outputs": [
    {
     "name": "stdout",
     "output_type": "stream",
     "text": [
      "[[[[[ 1  2  3]\n",
      "    [ 4  5  6]\n",
      "    [ 7  8  9]\n",
      "    [11 12 14]]]]]\n"
     ]
    }
   ],
   "source": [
    "a5=np.array([\n",
    "    [1,2,3],\n",
    "    [4,5,6],\n",
    "    [7,8,9],\n",
    "    [11,12,14]\n",
    "],ndmin=5)\n",
    "print(a5)\n"
   ]
  },
  {
   "cell_type": "code",
   "execution_count": 9,
   "id": "ac5fef64-0127-4f7c-b22e-095fad137542",
   "metadata": {},
   "outputs": [
    {
     "name": "stdout",
     "output_type": "stream",
     "text": [
      "[['1' '2']\n",
      " ['3' '4']\n",
      " ['5' '6']]\n"
     ]
    }
   ],
   "source": [
    "a6=np.array([[1,2],[3,4],['5','6']]) #one is in str form all will convert into str.\n",
    "print(a6)"
   ]
  },
  {
   "cell_type": "code",
   "execution_count": 10,
   "id": "0ce48152-1a7a-40fb-8ea4-16d11f72a5df",
   "metadata": {},
   "outputs": [
    {
     "name": "stdout",
     "output_type": "stream",
     "text": [
      "[['1' '2']\n",
      " ['3' '4.5']\n",
      " ['5' '6']]\n"
     ]
    }
   ],
   "source": [
    "a6=np.array([[1,2],[3,4.5],['5','6']])\n",
    "print(a6)"
   ]
  },
  {
   "cell_type": "code",
   "execution_count": 11,
   "id": "8809ab49-1eb8-4f8e-b115-bc1946fab34d",
   "metadata": {},
   "outputs": [
    {
     "name": "stdout",
     "output_type": "stream",
     "text": [
      "[[1.  2. ]\n",
      " [3.  4.5]\n",
      " [5.  6. ]]\n"
     ]
    }
   ],
   "source": [
    "a6=np.array([[1,2],[3,4.5],[5,6]]) #All will convert into decimal.\n",
    "print(a6)"
   ]
  },
  {
   "cell_type": "code",
   "execution_count": 12,
   "id": "212d6951-a07e-4340-ab35-f598b45ede45",
   "metadata": {},
   "outputs": [
    {
     "name": "stdout",
     "output_type": "stream",
     "text": [
      "[[1. +0.j 2. +0.j]\n",
      " [0. +3.j 4. +0.j]\n",
      " [5.5+0.j 6. +0.j]]\n"
     ]
    }
   ],
   "source": [
    "a6=np.array([[1,2],[3j,4],[5.5,6]]) # change according to superior Hierarchy.\n",
    "print(a6)"
   ]
  },
  {
   "cell_type": "markdown",
   "id": "2b2b38a7-e6cf-4dfc-bd59-3e155a68788e",
   "metadata": {},
   "source": [
    "**Boolean----Integer----Float----Complex----string/object Superoir from last to First**"
   ]
  },
  {
   "cell_type": "markdown",
   "id": "7a71b159-7773-4320-aacd-8c01ba06a044",
   "metadata": {},
   "source": [
    "**Creating Array with Data Type**"
   ]
  },
  {
   "cell_type": "code",
   "execution_count": 13,
   "id": "80bd4a34-0edf-477c-af78-fd7163895ac5",
   "metadata": {},
   "outputs": [
    {
     "name": "stdout",
     "output_type": "stream",
     "text": [
      "[1 2 3 4]\n"
     ]
    }
   ],
   "source": [
    "a7=np.array([1,2,3,4],dtype='i4')\n",
    "print(a7)"
   ]
  },
  {
   "cell_type": "code",
   "execution_count": 14,
   "id": "66500fa2-65c4-4fe2-aea4-75b2f2990216",
   "metadata": {},
   "outputs": [
    {
     "name": "stdout",
     "output_type": "stream",
     "text": [
      "[1 2 3 4]\n"
     ]
    }
   ],
   "source": [
    "a8=np.array([1,2,3,4],dtype='int32')\n",
    "print(a8)"
   ]
  },
  {
   "cell_type": "code",
   "execution_count": 15,
   "id": "6d7e3526-cc2f-4a53-84c1-115a105e7429",
   "metadata": {},
   "outputs": [
    {
     "name": "stdout",
     "output_type": "stream",
     "text": [
      "[1. 2. 3. 4.]\n"
     ]
    }
   ],
   "source": [
    "a9=np.array([1,2,3,4],dtype = 'f4')\n",
    "print(a9)"
   ]
  },
  {
   "cell_type": "code",
   "execution_count": 16,
   "id": "8770b6b8-c447-4cab-80d8-096dc8133a84",
   "metadata": {},
   "outputs": [
    {
     "name": "stdout",
     "output_type": "stream",
     "text": [
      "[b'1' b'2' b'3' b'4']\n"
     ]
    }
   ],
   "source": [
    "a9=np.array([1,2,3,4],dtype='S')\n",
    "print(a9)"
   ]
  }
 ],
 "metadata": {
  "kernelspec": {
   "display_name": "Python [conda env:base] *",
   "language": "python",
   "name": "conda-base-py"
  },
  "language_info": {
   "codemirror_mode": {
    "name": "ipython",
    "version": 3
   },
   "file_extension": ".py",
   "mimetype": "text/x-python",
   "name": "python",
   "nbconvert_exporter": "python",
   "pygments_lexer": "ipython3",
   "version": "3.13.5"
  }
 },
 "nbformat": 4,
 "nbformat_minor": 5
}
