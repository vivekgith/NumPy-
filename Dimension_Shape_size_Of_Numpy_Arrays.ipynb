{
 "cells": [
  {
   "cell_type": "markdown",
   "id": "7fe705a7-175a-497a-b24b-76a0d2b0453c",
   "metadata": {},
   "source": [
    "**Size in NumPy Array**"
   ]
  },
  {
   "cell_type": "code",
   "execution_count": 14,
   "id": "e9452d4b-f08d-4b63-9839-12ad99ee4f47",
   "metadata": {},
   "outputs": [
    {
     "data": {
      "text/plain": [
       "0"
      ]
     },
     "execution_count": 14,
     "metadata": {},
     "output_type": "execute_result"
    }
   ],
   "source": [
    "import numpy as np\n",
    "a1=np.array([[1,2,3],[4,5,6],[7,8,9],[10,11,12]])\n",
    "type(a1)\n",
    "a1.dtype\n",
    "a1.size #(Size means total no of element(value) inside array.\n",
    "a2=np.array([[[],[],[]],[[],[],[]]])\n",
    "type(a1)\n",
    "a2.size\n",
    "a2.ndim\n",
    "a1.ndim\n",
    "a3=np.array(35) #0 Dimension\n",
    "a3.size\n",
    "a3.ndim\n"
   ]
  },
  {
   "cell_type": "markdown",
   "id": "89b3e84d-1398-4b62-9803-8ed66266934f",
   "metadata": {},
   "source": [
    "**T0 know Dimension of Array**"
   ]
  },
  {
   "cell_type": "code",
   "execution_count": 12,
   "id": "5b2974ec-1a81-4f48-997f-00cded3ec270",
   "metadata": {},
   "outputs": [
    {
     "name": "stdout",
     "output_type": "stream",
     "text": [
      "[[ 1  2  3]\n",
      " [ 4  5  6]\n",
      " [ 7  8  9]\n",
      " [10 11 12]]\n"
     ]
    },
    {
     "data": {
      "text/plain": [
       "3"
      ]
     },
     "execution_count": 12,
     "metadata": {},
     "output_type": "execute_result"
    }
   ],
   "source": [
    "print(a1)\n",
    "a1.ndim\n",
    "a2.ndim"
   ]
  },
  {
   "cell_type": "markdown",
   "id": "b4fb2c49-ee06-4a8a-9386-9d80079df539",
   "metadata": {},
   "source": [
    "**To Specify Dimension**"
   ]
  },
  {
   "cell_type": "code",
   "execution_count": 18,
   "id": "d972f2c8-20a6-4180-a107-b64a58224896",
   "metadata": {},
   "outputs": [
    {
     "data": {
      "text/plain": [
       "5"
      ]
     },
     "execution_count": 18,
     "metadata": {},
     "output_type": "execute_result"
    }
   ],
   "source": [
    "a4=np.array([1,2,3],ndmin=5)\n",
    "a4.ndim"
   ]
  },
  {
   "cell_type": "markdown",
   "id": "e00321aa-4cc7-4528-a125-99c879b7104b",
   "metadata": {},
   "source": [
    "**Shape In NumPy Array**"
   ]
  },
  {
   "cell_type": "code",
   "execution_count": 21,
   "id": "b78f19f6-47eb-449e-b099-81857ccdf6ff",
   "metadata": {},
   "outputs": [
    {
     "name": "stdout",
     "output_type": "stream",
     "text": [
      "[[ 1  2  3]\n",
      " [ 4  5  6]\n",
      " [ 7  8  9]\n",
      " [10 11 12]]\n"
     ]
    },
    {
     "data": {
      "text/plain": [
       "(4, 3)"
      ]
     },
     "execution_count": 21,
     "metadata": {},
     "output_type": "execute_result"
    }
   ],
   "source": [
    "a4=np.array([[1,2,3]])\n",
    "a4.shape\n",
    "print(a1)\n",
    "a1.shape"
   ]
  },
  {
   "cell_type": "code",
   "execution_count": null,
   "id": "5df7e7d5-834e-4e86-bb6d-96a3dc3738d5",
   "metadata": {},
   "outputs": [],
   "source": []
  }
 ],
 "metadata": {
  "kernelspec": {
   "display_name": "Python [conda env:base] *",
   "language": "python",
   "name": "conda-base-py"
  },
  "language_info": {
   "codemirror_mode": {
    "name": "ipython",
    "version": 3
   },
   "file_extension": ".py",
   "mimetype": "text/x-python",
   "name": "python",
   "nbconvert_exporter": "python",
   "pygments_lexer": "ipython3",
   "version": "3.13.5"
  }
 },
 "nbformat": 4,
 "nbformat_minor": 5
}
